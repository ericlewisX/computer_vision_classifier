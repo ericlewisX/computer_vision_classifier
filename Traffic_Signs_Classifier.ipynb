{
  "nbformat": 4,
  "nbformat_minor": 0,
  "metadata": {
    "colab": {
      "name": "Traffic Signs Classifier.ipynb",
      "provenance": [],
      "collapsed_sections": [],
      "mount_file_id": "1rfxTeD1l20xmTvujUYUA5N2HkVUmTAJN",
      "authorship_tag": "ABX9TyN799aq9/sMtGDDF4cwnzqK",
      "include_colab_link": true
    },
    "kernelspec": {
      "name": "python3",
      "display_name": "Python 3"
    },
    "language_info": {
      "name": "python"
    },
    "accelerator": "TPU"
  },
  "cells": [
    {
      "cell_type": "markdown",
      "metadata": {
        "id": "view-in-github",
        "colab_type": "text"
      },
      "source": [
        "<a href=\"https://colab.research.google.com/github/ericlewisX/trafficsignclassifier/blob/main/Traffic_Signs_Classifier.ipynb\" target=\"_parent\"><img src=\"https://colab.research.google.com/assets/colab-badge.svg\" alt=\"Open In Colab\"/></a>"
      ]
    },
    {
      "cell_type": "code",
      "metadata": {
        "colab": {
          "base_uri": "https://localhost:8080/"
        },
        "id": "yp5TiGYLETG0",
        "outputId": "239a23a0-6850-4c4f-f2be-05ad7583a214"
      },
      "source": [
        "%tensorflow_version 2.x\n",
        "import tensorflow as tf\n",
        "print(\"Tensorflow version \" + tf.__version__)\n",
        "\n",
        "try:\n",
        "  tpu = tf.distribute.cluster_resolver.TPUClusterResolver()  # TPU detection\n",
        "  print('Running on TPU ', tpu.cluster_spec().as_dict()['worker'])\n",
        "except ValueError:\n",
        "  raise BaseException('ERROR: Not connected to a TPU runtime; please see the previous cell in this notebook for instructions!')\n",
        "\n",
        "tf.config.experimental_connect_to_cluster(tpu)\n",
        "tf.tpu.experimental.initialize_tpu_system(tpu)\n",
        "tpu_strategy = tf.distribute.experimental.TPUStrategy(tpu)"
      ],
      "execution_count": 1,
      "outputs": [
        {
          "output_type": "stream",
          "text": [
            "Tensorflow version 2.5.0\n",
            "Running on TPU  ['10.28.80.2:8470']\n",
            "INFO:tensorflow:Initializing the TPU system: grpc://10.28.80.2:8470\n"
          ],
          "name": "stdout"
        },
        {
          "output_type": "stream",
          "text": [
            "INFO:tensorflow:Initializing the TPU system: grpc://10.28.80.2:8470\n"
          ],
          "name": "stderr"
        },
        {
          "output_type": "stream",
          "text": [
            "INFO:tensorflow:Clearing out eager caches\n"
          ],
          "name": "stdout"
        },
        {
          "output_type": "stream",
          "text": [
            "INFO:tensorflow:Clearing out eager caches\n"
          ],
          "name": "stderr"
        },
        {
          "output_type": "stream",
          "text": [
            "INFO:tensorflow:Finished initializing TPU system.\n"
          ],
          "name": "stdout"
        },
        {
          "output_type": "stream",
          "text": [
            "INFO:tensorflow:Finished initializing TPU system.\n",
            "WARNING:absl:`tf.distribute.experimental.TPUStrategy` is deprecated, please use  the non experimental symbol `tf.distribute.TPUStrategy` instead.\n"
          ],
          "name": "stderr"
        },
        {
          "output_type": "stream",
          "text": [
            "INFO:tensorflow:Found TPU system:\n"
          ],
          "name": "stdout"
        },
        {
          "output_type": "stream",
          "text": [
            "INFO:tensorflow:Found TPU system:\n"
          ],
          "name": "stderr"
        },
        {
          "output_type": "stream",
          "text": [
            "INFO:tensorflow:*** Num TPU Cores: 8\n"
          ],
          "name": "stdout"
        },
        {
          "output_type": "stream",
          "text": [
            "INFO:tensorflow:*** Num TPU Cores: 8\n"
          ],
          "name": "stderr"
        },
        {
          "output_type": "stream",
          "text": [
            "INFO:tensorflow:*** Num TPU Workers: 1\n"
          ],
          "name": "stdout"
        },
        {
          "output_type": "stream",
          "text": [
            "INFO:tensorflow:*** Num TPU Workers: 1\n"
          ],
          "name": "stderr"
        },
        {
          "output_type": "stream",
          "text": [
            "INFO:tensorflow:*** Num TPU Cores Per Worker: 8\n"
          ],
          "name": "stdout"
        },
        {
          "output_type": "stream",
          "text": [
            "INFO:tensorflow:*** Num TPU Cores Per Worker: 8\n"
          ],
          "name": "stderr"
        },
        {
          "output_type": "stream",
          "text": [
            "INFO:tensorflow:*** Available Device: _DeviceAttributes(/job:localhost/replica:0/task:0/device:CPU:0, CPU, 0, 0)\n"
          ],
          "name": "stdout"
        },
        {
          "output_type": "stream",
          "text": [
            "INFO:tensorflow:*** Available Device: _DeviceAttributes(/job:localhost/replica:0/task:0/device:CPU:0, CPU, 0, 0)\n"
          ],
          "name": "stderr"
        },
        {
          "output_type": "stream",
          "text": [
            "INFO:tensorflow:*** Available Device: _DeviceAttributes(/job:worker/replica:0/task:0/device:CPU:0, CPU, 0, 0)\n"
          ],
          "name": "stdout"
        },
        {
          "output_type": "stream",
          "text": [
            "INFO:tensorflow:*** Available Device: _DeviceAttributes(/job:worker/replica:0/task:0/device:CPU:0, CPU, 0, 0)\n"
          ],
          "name": "stderr"
        },
        {
          "output_type": "stream",
          "text": [
            "INFO:tensorflow:*** Available Device: _DeviceAttributes(/job:worker/replica:0/task:0/device:TPU:0, TPU, 0, 0)\n"
          ],
          "name": "stdout"
        },
        {
          "output_type": "stream",
          "text": [
            "INFO:tensorflow:*** Available Device: _DeviceAttributes(/job:worker/replica:0/task:0/device:TPU:0, TPU, 0, 0)\n"
          ],
          "name": "stderr"
        },
        {
          "output_type": "stream",
          "text": [
            "INFO:tensorflow:*** Available Device: _DeviceAttributes(/job:worker/replica:0/task:0/device:TPU:1, TPU, 0, 0)\n"
          ],
          "name": "stdout"
        },
        {
          "output_type": "stream",
          "text": [
            "INFO:tensorflow:*** Available Device: _DeviceAttributes(/job:worker/replica:0/task:0/device:TPU:1, TPU, 0, 0)\n"
          ],
          "name": "stderr"
        },
        {
          "output_type": "stream",
          "text": [
            "INFO:tensorflow:*** Available Device: _DeviceAttributes(/job:worker/replica:0/task:0/device:TPU:2, TPU, 0, 0)\n"
          ],
          "name": "stdout"
        },
        {
          "output_type": "stream",
          "text": [
            "INFO:tensorflow:*** Available Device: _DeviceAttributes(/job:worker/replica:0/task:0/device:TPU:2, TPU, 0, 0)\n"
          ],
          "name": "stderr"
        },
        {
          "output_type": "stream",
          "text": [
            "INFO:tensorflow:*** Available Device: _DeviceAttributes(/job:worker/replica:0/task:0/device:TPU:3, TPU, 0, 0)\n"
          ],
          "name": "stdout"
        },
        {
          "output_type": "stream",
          "text": [
            "INFO:tensorflow:*** Available Device: _DeviceAttributes(/job:worker/replica:0/task:0/device:TPU:3, TPU, 0, 0)\n"
          ],
          "name": "stderr"
        },
        {
          "output_type": "stream",
          "text": [
            "INFO:tensorflow:*** Available Device: _DeviceAttributes(/job:worker/replica:0/task:0/device:TPU:4, TPU, 0, 0)\n"
          ],
          "name": "stdout"
        },
        {
          "output_type": "stream",
          "text": [
            "INFO:tensorflow:*** Available Device: _DeviceAttributes(/job:worker/replica:0/task:0/device:TPU:4, TPU, 0, 0)\n"
          ],
          "name": "stderr"
        },
        {
          "output_type": "stream",
          "text": [
            "INFO:tensorflow:*** Available Device: _DeviceAttributes(/job:worker/replica:0/task:0/device:TPU:5, TPU, 0, 0)\n"
          ],
          "name": "stdout"
        },
        {
          "output_type": "stream",
          "text": [
            "INFO:tensorflow:*** Available Device: _DeviceAttributes(/job:worker/replica:0/task:0/device:TPU:5, TPU, 0, 0)\n"
          ],
          "name": "stderr"
        },
        {
          "output_type": "stream",
          "text": [
            "INFO:tensorflow:*** Available Device: _DeviceAttributes(/job:worker/replica:0/task:0/device:TPU:6, TPU, 0, 0)\n"
          ],
          "name": "stdout"
        },
        {
          "output_type": "stream",
          "text": [
            "INFO:tensorflow:*** Available Device: _DeviceAttributes(/job:worker/replica:0/task:0/device:TPU:6, TPU, 0, 0)\n"
          ],
          "name": "stderr"
        },
        {
          "output_type": "stream",
          "text": [
            "INFO:tensorflow:*** Available Device: _DeviceAttributes(/job:worker/replica:0/task:0/device:TPU:7, TPU, 0, 0)\n"
          ],
          "name": "stdout"
        },
        {
          "output_type": "stream",
          "text": [
            "INFO:tensorflow:*** Available Device: _DeviceAttributes(/job:worker/replica:0/task:0/device:TPU:7, TPU, 0, 0)\n"
          ],
          "name": "stderr"
        },
        {
          "output_type": "stream",
          "text": [
            "INFO:tensorflow:*** Available Device: _DeviceAttributes(/job:worker/replica:0/task:0/device:TPU_SYSTEM:0, TPU_SYSTEM, 0, 0)\n"
          ],
          "name": "stdout"
        },
        {
          "output_type": "stream",
          "text": [
            "INFO:tensorflow:*** Available Device: _DeviceAttributes(/job:worker/replica:0/task:0/device:TPU_SYSTEM:0, TPU_SYSTEM, 0, 0)\n"
          ],
          "name": "stderr"
        },
        {
          "output_type": "stream",
          "text": [
            "INFO:tensorflow:*** Available Device: _DeviceAttributes(/job:worker/replica:0/task:0/device:XLA_CPU:0, XLA_CPU, 0, 0)\n"
          ],
          "name": "stdout"
        },
        {
          "output_type": "stream",
          "text": [
            "INFO:tensorflow:*** Available Device: _DeviceAttributes(/job:worker/replica:0/task:0/device:XLA_CPU:0, XLA_CPU, 0, 0)\n"
          ],
          "name": "stderr"
        }
      ]
    },
    {
      "cell_type": "code",
      "metadata": {
        "id": "ja87rfbiEgzs"
      },
      "source": [
        "from google.colab import auth\n",
        "auth.authenticate_user()"
      ],
      "execution_count": 2,
      "outputs": []
    },
    {
      "cell_type": "code",
      "metadata": {
        "colab": {
          "base_uri": "https://localhost:8080/"
        },
        "id": "DkIgCRUkEh7D",
        "outputId": "8b4e361c-2b32-438a-fb85-cba47ad52a63"
      },
      "source": [
        "!curl https://sdk.cloud.google.com | bash"
      ],
      "execution_count": 5,
      "outputs": [
        {
          "output_type": "stream",
          "text": [
            "  % Total    % Received % Xferd  Average Speed   Time    Time     Time  Current\n",
            "                                 Dload  Upload   Total   Spent    Left  Speed\n",
            "\r  0     0    0     0    0     0      0      0 --:--:-- --:--:-- --:--:--     0\r100   443  100   443    0     0  18458      0 --:--:-- --:--:-- --:--:-- 18458\n",
            "Downloading Google Cloud SDK install script: https://dl.google.com/dl/cloudsdk/channels/rapid/install_google_cloud_sdk.bash\n",
            "\r######################################################################## 100.0%\n",
            "Running install script from: /tmp/tmp.iMyBzkFa1m/install_google_cloud_sdk.bash\n",
            "which curl\n",
            "curl -# -f https://dl.google.com/dl/cloudsdk/channels/rapid/google-cloud-sdk.tar.gz\n",
            "######################################################################## 100.0%\n",
            "\n",
            "mkdir -p /root\n",
            "\"/root/google-cloud-sdk\" already exists and may contain out of date files.\n",
            "Remove /root/google-cloud-sdk or select a new installation directory, then run again.\n"
          ],
          "name": "stdout"
        }
      ]
    },
    {
      "cell_type": "code",
      "metadata": {
        "colab": {
          "base_uri": "https://localhost:8080/"
        },
        "id": "mXrzu_bbEkW7",
        "outputId": "ff7d7101-63ff-4ea7-b179-596ed17bc7d4"
      },
      "source": [
        "!gcloud init"
      ],
      "execution_count": 6,
      "outputs": [
        {
          "output_type": "stream",
          "text": [
            "Welcome! This command will take you through the configuration of gcloud.\n",
            "\n",
            "Settings from your current configuration [default] are:\n",
            "component_manager:\n",
            "  disable_update_check: 'True'\n",
            "compute:\n",
            "  gce_metadata_read_timeout_sec: '0'\n",
            "core:\n",
            "  account: eric.lewish@gmail.com\n",
            "\n",
            "Pick configuration to use:\n",
            " [1] Re-initialize this configuration [default] with new settings \n",
            " [2] Create a new configuration\n",
            "Please enter your numeric choice:  1\n",
            "\n",
            "Your current configuration has been set to: [default]\n",
            "\n",
            "You can skip diagnostics next time by using the following flag:\n",
            "  gcloud init --skip-diagnostics\n",
            "\n",
            "Network diagnostic detects and fixes local network connection issues.\n",
            "Reachability Check passed.\n",
            "Network diagnostic passed (1/1 checks passed).\n",
            "\n",
            "Choose the account you would like to use to perform operations for \n",
            "this configuration:\n",
            " [1] eric.lewish@gmail.com\n",
            " [2] Log in with a new account\n",
            "Please enter your numeric choice:  1\n",
            "\n",
            "You are logged in as: [eric.lewish@gmail.com].\n",
            "\n",
            "Pick cloud project to use: \n",
            " [1] colorfy-322000\n",
            " [2] Create a new project\n",
            "Please enter numeric choice or text value (must exactly match list \n",
            "item):  1\n",
            "\n",
            "Your current project has been set to: [colorfy-322000].\n",
            "\n",
            "Not setting default zone/region (this feature makes it easier to use\n",
            "[gcloud compute] by setting an appropriate default value for the\n",
            "--zone and --region flag).\n",
            "See https://cloud.google.com/compute/docs/gcloud-compute section on how to set\n",
            "default compute region and zone manually. If you would like [gcloud init] to be\n",
            "able to do this for you the next time you run it, make sure the\n",
            "Compute Engine API is enabled for your project on the\n",
            "https://console.developers.google.com/apis page.\n",
            "\n",
            "Your Google Cloud SDK is configured and ready to use!\n",
            "\n",
            "* Commands that require authentication will use eric.lewish@gmail.com by default\n",
            "* Commands will reference project `colorfy-322000` by default\n",
            "Run `gcloud help config` to learn how to change individual settings\n",
            "\n",
            "This gcloud configuration is called [default]. You can create additional configurations if you work with multiple accounts and/or projects.\n",
            "Run `gcloud topic configurations` to learn more.\n",
            "\n",
            "Some things to try next:\n",
            "\n",
            "* Run `gcloud --help` to see the Cloud Platform services you can interact with. And run `gcloud help COMMAND` to get help on any gcloud command.\n",
            "* Run `gcloud topic --help` to learn about advanced features of the SDK like arg files and output formatting\n"
          ],
          "name": "stdout"
        }
      ]
    },
    {
      "cell_type": "code",
      "metadata": {
        "id": "g0LyuDDUEk24"
      },
      "source": [
        "!echo \"deb http://packages.cloud.google.com/apt gcsfuse-bionic main\" > /etc/apt/sources.list.d/gcsfuse.list"
      ],
      "execution_count": 7,
      "outputs": []
    },
    {
      "cell_type": "code",
      "metadata": {
        "colab": {
          "base_uri": "https://localhost:8080/"
        },
        "id": "508HGRooEnRg",
        "outputId": "5dd5c8e7-b765-420f-9dbe-f9307e9751b8"
      },
      "source": [
        "!curl https://packages.cloud.google.com/apt/doc/apt-key.gpg | apt-key add -"
      ],
      "execution_count": 8,
      "outputs": [
        {
          "output_type": "stream",
          "text": [
            "  % Total    % Received % Xferd  Average Speed   Time    Time     Time  Current\n",
            "                                 Dload  Upload   Total   Spent    Left  Speed\n",
            "\r  0     0    0     0    0     0      0      0 --:--:-- --:--:-- --:--:--     0\r100  2537  100  2537    0     0   107k      0 --:--:-- --:--:-- --:--:--  107k\n",
            "OK\n"
          ],
          "name": "stdout"
        }
      ]
    },
    {
      "cell_type": "code",
      "metadata": {
        "colab": {
          "base_uri": "https://localhost:8080/"
        },
        "id": "EEHH62vjEo0r",
        "outputId": "a74c563f-63e6-426a-cf50-fa09637f1e82"
      },
      "source": [
        "!apt -qq update"
      ],
      "execution_count": 9,
      "outputs": [
        {
          "output_type": "stream",
          "text": [
            "98 packages can be upgraded. Run 'apt list --upgradable' to see them.\n"
          ],
          "name": "stdout"
        }
      ]
    },
    {
      "cell_type": "code",
      "metadata": {
        "colab": {
          "base_uri": "https://localhost:8080/"
        },
        "id": "Q0mGniaOEqDw",
        "outputId": "696fa643-9f0f-49d3-ad53-480b9c423e00"
      },
      "source": [
        "!apt -qq install gcsfuse"
      ],
      "execution_count": 10,
      "outputs": [
        {
          "output_type": "stream",
          "text": [
            "The following NEW packages will be installed:\n",
            "  gcsfuse\n",
            "0 upgraded, 1 newly installed, 0 to remove and 98 not upgraded.\n",
            "Need to get 10.8 MB of archives.\n",
            "After this operation, 23.2 MB of additional disk space will be used.\n",
            "Selecting previously unselected package gcsfuse.\n",
            "(Reading database ... 160837 files and directories currently installed.)\n",
            "Preparing to unpack .../gcsfuse_0.36.0_amd64.deb ...\n",
            "Unpacking gcsfuse (0.36.0) ...\n",
            "Setting up gcsfuse (0.36.0) ...\n"
          ],
          "name": "stdout"
        }
      ]
    },
    {
      "cell_type": "code",
      "metadata": {
        "id": "rzoY3FtXEt9S"
      },
      "source": [
        "!mkdir imagedataset"
      ],
      "execution_count": 11,
      "outputs": []
    },
    {
      "cell_type": "code",
      "metadata": {
        "colab": {
          "base_uri": "https://localhost:8080/"
        },
        "id": "t2sr81lRiHTi",
        "outputId": "2ea4ee3e-332b-4676-b1fa-42bfd26dfdde"
      },
      "source": [
        "!gcsfuse --implicit-dirs trafficsignclassifier imagedataset/"
      ],
      "execution_count": 17,
      "outputs": [
        {
          "output_type": "stream",
          "text": [
            "2021/08/09 10:49:53.231466 Using mount point: /content/imagedataset\n",
            "2021/08/09 10:49:53.239792 Opening GCS connection...\n",
            "2021/08/09 10:49:53.448842 Mounting file system \"trafficsignclassifier\"...\n",
            "2021/08/09 10:49:53.451434 File system has been successfully mounted.\n"
          ],
          "name": "stdout"
        }
      ]
    },
    {
      "cell_type": "markdown",
      "metadata": {
        "id": "yUNJhoVlEvcv"
      },
      "source": [
        "## TensordBoard and Callbacks"
      ]
    },
    {
      "cell_type": "code",
      "metadata": {
        "id": "_QbWmB9OE0Q3"
      },
      "source": [
        "from keras.callbacks import EarlyStopping, ModelCheckpoint, TensorBoard"
      ],
      "execution_count": 1,
      "outputs": []
    },
    {
      "cell_type": "code",
      "metadata": {
        "id": "PXytVUTvE1xj"
      },
      "source": [
        "early_stopping = EarlyStopping(monitor='loss', \n",
        "                               patience=5, mode='auto'\n",
        "                               )\n",
        "model_checkpoint = ModelCheckpoint(filepath='./drive/MyDrive/Capstone3/TrafficSigns/modelX.h5', \n",
        "                                   monitor='val_accuracy', save_best_only=True)\n",
        "tensor_board = TensorBoard(log_dir=\"./logs\" )"
      ],
      "execution_count": 2,
      "outputs": []
    },
    {
      "cell_type": "markdown",
      "metadata": {
        "id": "lFVsBqT8E22Y"
      },
      "source": [
        "# Imports"
      ]
    },
    {
      "cell_type": "code",
      "metadata": {
        "id": "FW0fOxh4E7YG"
      },
      "source": [
        "## Standard\n",
        "import numpy as np\n",
        "import pandas as pd\n",
        "import matplotlib.pyplot as plt\n",
        "import os\n",
        "import cv2\n",
        "import pickle\n",
        "import random\n",
        "\n",
        "## Image Related\n",
        "from PIL import Image\n",
        "from skimage.io import imsave, imshow\n",
        "\n",
        "## Sklearn\n",
        "from sklearn.model_selection import train_test_split\n",
        "\n",
        "## Tensoflow and Keras\n",
        "import tensorflow as tf\n",
        "from tensorflow import keras\n",
        "from tensorflow.keras import datasets, models\n",
        "from tensorflow.keras.layers import Conv2D, UpSampling2D, InputLayer, Dense, \\\n",
        "                                    Conv2DTranspose, MaxPooling2D, Dropout, Flatten, Input\n",
        "from keras.models import Sequential, load_model\n",
        "from keras.optimizers import Adam\n",
        "from keras.utils.np_utils import to_categorical\n",
        "from keras.preprocessing.image import ImageDataGenerator, array_to_img, img_to_array, load_img\n",
        "\n",
        "path = \"imagedataset/TrafficSignClassifier/data/myData/images/\"\n",
        "label_csv = 'imagedataset/TrafficSignClassifier/labels.csv'"
      ],
      "execution_count": 3,
      "outputs": []
    },
    {
      "cell_type": "code",
      "metadata": {
        "id": "uI027EP_Goh_"
      },
      "source": [
        "def load_data(path):\n",
        "  '''\n",
        "  This function loads all the images from all the directories into lists.\n",
        "  '''\n",
        "  class_directory_num, image_list, class_, shapes = 0, [], [], []\n",
        "  list_ = os.listdir(path) # Number of directories in path is synomous with number of classes\n",
        "  class_count = len(list_)\n",
        "\n",
        "  for folder in range(len(list_)):\n",
        "\n",
        "      sign_list = os.listdir(path + '/' + str(class_directory_num))\n",
        "\n",
        "      for x in sign_list:\n",
        "\n",
        "        image = cv2.imread(path + '/' + str(class_directory_num) + '/' + x)\n",
        "        image_list.append(image)\n",
        "        class_.append(class_directory_num)\n",
        "        shapes.append(image.shape)\n",
        "\n",
        "      print(class_directory_num, end = ' ')\n",
        "      class_directory_num += 1\n",
        "\n",
        "  images_dataset_list = np.array(image_list)\n",
        "  class_num = np.array(class_)\n",
        "\n",
        "  return images_dataset_list, class_num, shapes, class_count\n"
      ],
      "execution_count": 21,
      "outputs": []
    },
    {
      "cell_type": "code",
      "metadata": {
        "colab": {
          "base_uri": "https://localhost:8080/"
        },
        "id": "CY1hoRnth2Nt",
        "outputId": "10c4a643-9593-4204-c5ea-5af8f7f98962"
      },
      "source": [
        "images_dataset_list, class_num, shapes, class_count = load_data(path)"
      ],
      "execution_count": 22,
      "outputs": [
        {
          "output_type": "stream",
          "text": [
            "0 1 2 3 4 5 6 7 8 9 10 11 12 13 14 15 16 17 18 19 20 21 22 23 24 25 26 27 28 29 30 31 32 33 34 35 36 37 38 39 40 41 42 "
          ],
          "name": "stdout"
        }
      ]
    },
    {
      "cell_type": "code",
      "metadata": {
        "id": "dNaxKz79LwZW"
      },
      "source": [
        "def save_variables(var_, file_name : str):\n",
        "  '''\n",
        "  This function saves variables as binary pickle files for reuse later. This circumvents the\n",
        "  need to rerun load_data(path) if runtime fails.\n",
        "  '''\n",
        "  with open(file_name, 'wb') as f:\n",
        "    pickle.dump(var_, f)"
      ],
      "execution_count": 23,
      "outputs": []
    },
    {
      "cell_type": "code",
      "metadata": {
        "id": "ZFkjriWsiMjB"
      },
      "source": [
        "save_variables(images_dataset_list, 'images_dataset_list.pickle')\n",
        "save_variables(class_num, 'class_num.pickle')\n",
        "save_variables(shapes, 'shapes.pickle')\n",
        "save_variables(class_count, 'class_count.pickle')"
      ],
      "execution_count": 24,
      "outputs": []
    },
    {
      "cell_type": "code",
      "metadata": {
        "id": "5SHU1KhxNJJb"
      },
      "source": [
        "def load_variables(file_name : str):\n",
        "  '''\n",
        "  This function loads variables from a binary pickle file.\n",
        "  '''\n",
        "  with open(file_name, 'rb') as f:\n",
        "    var_ = pickle.load(f)\n",
        "\n",
        "  return var_"
      ],
      "execution_count": 4,
      "outputs": []
    },
    {
      "cell_type": "code",
      "metadata": {
        "id": "gwjt23aKinKk"
      },
      "source": [
        "images_dataset_list = load_variables('images_dataset_list.pickle')\n",
        "class_num = load_variables('class_num.pickle')\n",
        "shapes = load_variables('shapes.pickle')\n",
        "class_count = load_variables('class_count.pickle')"
      ],
      "execution_count": 5,
      "outputs": []
    },
    {
      "cell_type": "code",
      "metadata": {
        "id": "swkn0uS6NlQK"
      },
      "source": [
        "def data_split(images_dataset, class_num):\n",
        "  '''\n",
        "  This function splits our data with a train test split.  \n",
        "  '''\n",
        "  X_train, X_test, y_train, y_test = train_test_split(images_dataset, class_num, test_size=0.2)\n",
        "  \n",
        "  return X_train, X_test, y_train, y_test\n",
        " "
      ],
      "execution_count": 6,
      "outputs": []
    },
    {
      "cell_type": "code",
      "metadata": {
        "id": "rKkKW3mNv0Ir"
      },
      "source": [
        "import sys\n",
        "sys.setrecursionlimit(1500)"
      ],
      "execution_count": 45,
      "outputs": []
    },
    {
      "cell_type": "code",
      "metadata": {
        "id": "PaMATUc2jDYP"
      },
      "source": [
        "X_train, X_test, y_train, y_test  = data_split(images_dataset_list, class_num)"
      ],
      "execution_count": 7,
      "outputs": []
    },
    {
      "cell_type": "code",
      "metadata": {
        "id": "vacSseb1tM3X"
      },
      "source": [
        "def train_validation_split(X_train, y_train, validation_size = 0.2):\n",
        "\n",
        "  '''\n",
        "  [This function splits our data with a train validation split. ]\n",
        "\n",
        "  Returns\n",
        "  -------\n",
        "  [type] - X_train\n",
        "      [description]\n",
        "  [type] - X_validation\n",
        "      [description]\n",
        "  [type] - y_train\n",
        "      [description]\n",
        "  [type] - y_validation\n",
        "      [description]\n",
        "  '''\n",
        "\n",
        "  X_train, X_validation, y_train, y_validation = train_test_split(X_train, y_train, test_size = validation_size)\n",
        " \n",
        "  return X_train, X_validation, y_train, y_validation \n",
        " \n",
        " "
      ],
      "execution_count": 8,
      "outputs": []
    },
    {
      "cell_type": "code",
      "metadata": {
        "id": "zcXUighEjljZ"
      },
      "source": [
        "X_train, X_validation, y_train, y_validation = train_validation_split(X_train, y_train)"
      ],
      "execution_count": 9,
      "outputs": []
    },
    {
      "cell_type": "code",
      "metadata": {
        "id": "oiEizxLYTQjo"
      },
      "source": [
        "def labels_df(label_file):\n",
        "\n",
        "  ''' \n",
        "  '''\n",
        "  data = pd.read_csv(label_file)\n",
        "  return data"
      ],
      "execution_count": 10,
      "outputs": []
    },
    {
      "cell_type": "code",
      "metadata": {
        "id": "3QSA0_iYj9_d"
      },
      "source": [
        "data = labels_df(label_csv)"
      ],
      "execution_count": 13,
      "outputs": []
    },
    {
      "cell_type": "code",
      "metadata": {
        "id": "ZlHFa0H7VaOr"
      },
      "source": [
        "num_of_samples = []\n",
        "cols = 5\n",
        "class_count = class_count\n",
        "fig, axs = plt.subplots(nrows = class_count, ncols = cols, figsize=(5, 300))\n",
        "fig.tight_layout()\n",
        "for i in range(cols):\n",
        "    for j,row in data.iterrows():\n",
        "        x_selected = X_train[y_train == j]\n",
        "        # axs[j][i].imshow(x_selected[random.randint(0, len(x_selected)- 1), :, :], cmap=plt.get_cmap(\"gray\"))\n",
        "        # axs[j][i].axis(\"off\")\n",
        "        if i == 2:\n",
        "            axs[j][i].set_title(str(j)+ \"-\"+row[\"Name\"])\n",
        "            num_of_samples.append(len(x_selected))"
      ],
      "execution_count": null,
      "outputs": []
    },
    {
      "cell_type": "code",
      "metadata": {
        "id": "NM24bPytkT8r"
      },
      "source": [
        "def grayscale(img):\n",
        "    img = img.astype(np.float32)\n",
        "    gray = cv2.cvtColor(img, cv2.COLOR_BGR2GRAY)\n",
        "    img_expanded = gray[:, :, np.newaxis]\n",
        "    return img_expanded\n",
        "\n",
        "def equalize(img):\n",
        "    img1 = np.uint8(cv2.normalize(img, None, 0, 255, cv2.NORM_MINMAX))\n",
        "    img = cv2.equalizeHist(img1)\n",
        "    return img\n",
        "\n",
        "def preprocessing(img):\n",
        "\n",
        "  img = grayscale(img)     \n",
        "  img = equalize(img)      # STANDARDIZE THE LIGHTING IN AN IMAGE\n",
        "  img = img/255    \n",
        "  return img\n",
        "  "
      ],
      "execution_count": 15,
      "outputs": []
    },
    {
      "cell_type": "code",
      "metadata": {
        "id": "NWqp6_d-mzOP"
      },
      "source": [
        "X_train = np.array(list(map(preprocessing,X_train)))  # TO IRETATE AND PREPROCESS ALL IMAGES\n"
      ],
      "execution_count": 16,
      "outputs": []
    },
    {
      "cell_type": "code",
      "metadata": {
        "colab": {
          "base_uri": "https://localhost:8080/",
          "height": 276
        },
        "id": "HsHNs4QNm2uD",
        "outputId": "9df2e1f4-49b7-4237-a993-f906d2080732"
      },
      "source": [
        "# histogram of label frequency\n",
        "hist, bins = np.histogram(X_train, class_count)\n",
        "width = 0.7 * (bins[1] - bins[0])\n",
        "center = (bins[:-1] + bins[1:]) / 2\n",
        "plt.bar(center, hist, align = 'center', width = width)\n",
        "plt.show()"
      ],
      "execution_count": 18,
      "outputs": [
        {
          "output_type": "display_data",
          "data": {
            "image/png": "[encoded data removed]",
            "text/plain": [
              "<Figure size 432x288 with 1 Axes>"
            ]
          },
          "metadata": {
            "tags": [],
            "needs_background": "light"
          }
        }
      ]
    },
    {
      "cell_type": "code",
      "metadata": {
        "id": "LYwTV_IUm5th"
      },
      "source": [
        "X_validation = np.array(list(map(preprocessing, X_validation)))\n",
        "X_test = np.array(list(map(preprocessing, X_test)))"
      ],
      "execution_count": 19,
      "outputs": []
    },
    {
      "cell_type": "code",
      "metadata": {
        "colab": {
          "base_uri": "https://localhost:8080/",
          "height": 314
        },
        "id": "WxB9iKYEm_dW",
        "outputId": "984239a3-a9bb-4dc2-a83d-2a9b1c8d1fed"
      },
      "source": [
        "# Random Image, Lightened, and Grayscaled\n",
        "imshow(X_train[random.randint(0,len(X_train)-1)]) "
      ],
      "execution_count": 29,
      "outputs": [
        {
          "output_type": "execute_result",
          "data": {
            "text/plain": [
              "<matplotlib.image.AxesImage at 0x7f8649bdba90>"
            ]
          },
          "metadata": {
            "tags": []
          },
          "execution_count": 29
        },
        {
          "output_type": "display_data",
          "data": {
            "image/png": "[encoded data removed]",
            "text/plain": [
              "<Figure size 432x288 with 1 Axes>"
            ]
          },
          "metadata": {
            "tags": [],
            "needs_background": "light"
          }
        }
      ]
    },
    {
      "cell_type": "code",
      "metadata": {
        "id": "xJlMPGd_x2vR"
      },
      "source": [
        "def depth_adder(X_train, X_validation, X_test):\n",
        "  X_train = X_train.reshape(X_train.shape[0], \n",
        "                            X_train.shape[1], \n",
        "                            X_train.shape[2], 1)\n",
        "  X_validation = X_validation.reshape(X_validation.shape[0], \n",
        "                                      X_validation.shape[1], \n",
        "                                      X_validation.shape[2], 1)\n",
        "  X_test = X_test.reshape(X_test.shape[0],\n",
        "                          X_test.shape[1],\n",
        "                          X_test.shape[2], 1)\n",
        "  \n",
        "  return X_train, X_validation, X_test"
      ],
      "execution_count": 30,
      "outputs": []
    },
    {
      "cell_type": "code",
      "metadata": {
        "id": "-HRUyiQpzD3c"
      },
      "source": [
        "X_train, X_validation, X_test = depth_adder(X_train, X_validation, X_test)"
      ],
      "execution_count": 31,
      "outputs": []
    },
    {
      "cell_type": "code",
      "metadata": {
        "id": "H36kWR6VzMKe"
      },
      "source": [
        "# Image augmenter\n",
        "augmenter = ImageDataGenerator(width_shift_range = 0.1, \n",
        "                            height_shift_range = 0.1,\n",
        "                            zoom_range = 0.2, \n",
        "                            shear_range = 0.1,\n",
        "                            rotation_range = 10) \n",
        "augmenter.fit(X_train)\n",
        "batches = augmenter.flow(X_train, y_train, batch_size = 20) \n",
        "X_batch, y_batch = next(batches)"
      ],
      "execution_count": 32,
      "outputs": []
    },
    {
      "cell_type": "code",
      "metadata": {
        "colab": {
          "base_uri": "https://localhost:8080/",
          "height": 144
        },
        "id": "EeLCspqhzufW",
        "outputId": "abb481b4-cb43-49a7-9096-f26af2ddfb21"
      },
      "source": [
        "# Show some images\n",
        "fig,axs=plt.subplots(1,7,figsize=(20,5))\n",
        "fig.tight_layout()\n",
        "imageDim = (32,32,3)\n",
        "for i in range(7):\n",
        "    axs[i].imshow(X_batch[i].reshape(imageDim[0],imageDim[1]))\n",
        "    axs[i].axis('off')\n",
        "plt.show()"
      ],
      "execution_count": 36,
      "outputs": [
        {
          "output_type": "display_data",
          "data": {
            "image/png": "[encoded data removed]",
            "text/plain": [
              "<Figure size 1440x360 with 7 Axes>"
            ]
          },
          "metadata": {
            "tags": [],
            "needs_background": "light"
          }
        }
      ]
    },
    {
      "cell_type": "code",
      "metadata": {
        "id": "5cJ8tN-UzzsE"
      },
      "source": [
        "y_train, y_validation, y_test = to_categorical(y_train, class_count), to_categorical(y_validation, class_count), to_categorical(y_test, class_count)\n"
      ],
      "execution_count": 38,
      "outputs": []
    },
    {
      "cell_type": "code",
      "metadata": {
        "id": "zL-pkmFr0Ytj"
      },
      "source": [
        "# Model\n",
        "\n",
        "model= keras.models.Sequential()\n",
        "model.add((Conv2D(60, (5,5) , input_shape = (imageDim[0], \n",
        "                                             imageDim[1],1), \n",
        "                                                activation='relu'))) \n",
        "model.add((Conv2D(60, (5,5) , activation='relu')))\n",
        "model.add(MaxPooling2D(pool_size = (2,2))) \n",
        "\n",
        "model.add((Conv2D(60 // 2, (3,3), activation='relu')))\n",
        "model.add((Conv2D(60 // 2, (3,3), activation='relu')))\n",
        "model.add(MaxPooling2D(pool_size = (2,2)))\n",
        "model.add(Dropout(0.5))\n",
        "\n",
        "model.add(Flatten())\n",
        "model.add(Dense(500, activation ='relu'))\n",
        "model.add(Dropout(0.5)) \n",
        "model.add(Dense(class_count, activation ='softmax')) # ouput layer\n",
        "\n",
        "# COMPILE MODEL\n",
        "model.compile(Adam(learning_rate=0.001),loss='categorical_crossentropy',metrics=['accuracy'])\n"
      ],
      "execution_count": 41,
      "outputs": []
    },
    {
      "cell_type": "code",
      "metadata": {
        "colab": {
          "base_uri": "https://localhost:8080/"
        },
        "id": "tHzlOE_41mt8",
        "outputId": "41411306-7558-46d7-d86e-6836b7168bec"
      },
      "source": [
        "# Fit\n",
        "batch_size_val = 50\n",
        "steps_per_epoch_val = len(X_train) // batch_size_val\n",
        "epochs_val = 50\n",
        "\n",
        "history = model.fit(X_train, y_train, \n",
        "                    batch_size = batch_size_val,\n",
        "                    steps_per_epoch = steps_per_epoch_val,\n",
        "                    epochs = epochs_val,\n",
        "                    shuffle = 1, \n",
        "                    validation_data=(X_validation,y_validation),\n",
        "                    callbacks=[early_stopping, model_checkpoint], verbose = 1)\n",
        "                            "
      ],
      "execution_count": 46,
      "outputs": [
        {
          "output_type": "stream",
          "text": [
            "Epoch 1/50\n",
            "445/445 [==============================] - 230s 516ms/step - loss: 0.2607 - accuracy: 0.9192 - val_loss: 0.0835 - val_accuracy: 0.9768\n",
            "Epoch 2/50\n",
            "445/445 [==============================] - 228s 513ms/step - loss: 0.2081 - accuracy: 0.9347 - val_loss: 0.0854 - val_accuracy: 0.9741\n",
            "Epoch 3/50\n",
            "445/445 [==============================] - 228s 512ms/step - loss: 0.1786 - accuracy: 0.9432 - val_loss: 0.0690 - val_accuracy: 0.9797\n",
            "Epoch 4/50\n",
            "445/445 [==============================] - 229s 514ms/step - loss: 0.1768 - accuracy: 0.9414 - val_loss: 0.0611 - val_accuracy: 0.9844\n",
            "Epoch 5/50\n",
            "445/445 [==============================] - 226s 509ms/step - loss: 0.1533 - accuracy: 0.9508 - val_loss: 0.0602 - val_accuracy: 0.9802\n",
            "Epoch 6/50\n",
            "445/445 [==============================] - 228s 511ms/step - loss: 0.1310 - accuracy: 0.9567 - val_loss: 0.0433 - val_accuracy: 0.9885\n",
            "Epoch 7/50\n",
            "445/445 [==============================] - 226s 508ms/step - loss: 0.1248 - accuracy: 0.9606 - val_loss: 0.0534 - val_accuracy: 0.9860\n",
            "Epoch 8/50\n",
            "445/445 [==============================] - 226s 509ms/step - loss: 0.1180 - accuracy: 0.9613 - val_loss: 0.0462 - val_accuracy: 0.9872\n",
            "Epoch 9/50\n",
            "445/445 [==============================] - 227s 510ms/step - loss: 0.1036 - accuracy: 0.9654 - val_loss: 0.0434 - val_accuracy: 0.9892\n",
            "Epoch 10/50\n",
            "445/445 [==============================] - 228s 511ms/step - loss: 0.1083 - accuracy: 0.9653 - val_loss: 0.0461 - val_accuracy: 0.9878\n",
            "Epoch 11/50\n",
            "445/445 [==============================] - 226s 508ms/step - loss: 0.0982 - accuracy: 0.9681 - val_loss: 0.0468 - val_accuracy: 0.9889\n",
            "Epoch 12/50\n",
            "445/445 [==============================] - 227s 509ms/step - loss: 0.0967 - accuracy: 0.9691 - val_loss: 0.0575 - val_accuracy: 0.9846\n",
            "Epoch 13/50\n",
            "445/445 [==============================] - 227s 510ms/step - loss: 0.0940 - accuracy: 0.9695 - val_loss: 0.0431 - val_accuracy: 0.9890\n",
            "Epoch 14/50\n",
            "445/445 [==============================] - 227s 510ms/step - loss: 0.0888 - accuracy: 0.9716 - val_loss: 0.0385 - val_accuracy: 0.9903\n",
            "Epoch 15/50\n",
            "445/445 [==============================] - 227s 511ms/step - loss: 0.0764 - accuracy: 0.9765 - val_loss: 0.0507 - val_accuracy: 0.9878\n",
            "Epoch 16/50\n",
            "445/445 [==============================] - 228s 512ms/step - loss: 0.0751 - accuracy: 0.9767 - val_loss: 0.0392 - val_accuracy: 0.9910\n",
            "Epoch 17/50\n",
            "445/445 [==============================] - 228s 512ms/step - loss: 0.0812 - accuracy: 0.9744 - val_loss: 0.0395 - val_accuracy: 0.9892\n",
            "Epoch 18/50\n",
            "445/445 [==============================] - 227s 510ms/step - loss: 0.0690 - accuracy: 0.9782 - val_loss: 0.0346 - val_accuracy: 0.9917\n",
            "Epoch 19/50\n",
            "445/445 [==============================] - 227s 509ms/step - loss: 0.0690 - accuracy: 0.9771 - val_loss: 0.0404 - val_accuracy: 0.9901\n",
            "Epoch 20/50\n",
            "445/445 [==============================] - 229s 516ms/step - loss: 0.0729 - accuracy: 0.9771 - val_loss: 0.0350 - val_accuracy: 0.9912\n",
            "Epoch 21/50\n",
            "445/445 [==============================] - 228s 512ms/step - loss: 0.0663 - accuracy: 0.9792 - val_loss: 0.0301 - val_accuracy: 0.9930\n",
            "Epoch 22/50\n",
            "445/445 [==============================] - 230s 516ms/step - loss: 0.0611 - accuracy: 0.9802 - val_loss: 0.0329 - val_accuracy: 0.9921\n",
            "Epoch 23/50\n",
            "445/445 [==============================] - 227s 511ms/step - loss: 0.0635 - accuracy: 0.9802 - val_loss: 0.0370 - val_accuracy: 0.9910\n",
            "Epoch 24/50\n",
            "445/445 [==============================] - 229s 515ms/step - loss: 0.0614 - accuracy: 0.9807 - val_loss: 0.0315 - val_accuracy: 0.9912\n",
            "Epoch 25/50\n",
            "445/445 [==============================] - 228s 513ms/step - loss: 0.0626 - accuracy: 0.9794 - val_loss: 0.0443 - val_accuracy: 0.9889\n",
            "Epoch 26/50\n",
            "445/445 [==============================] - 228s 512ms/step - loss: 0.0566 - accuracy: 0.9820 - val_loss: 0.0269 - val_accuracy: 0.9944\n",
            "Epoch 27/50\n",
            "445/445 [==============================] - 228s 513ms/step - loss: 0.0580 - accuracy: 0.9820 - val_loss: 0.0351 - val_accuracy: 0.9899\n",
            "Epoch 28/50\n",
            "445/445 [==============================] - 228s 513ms/step - loss: 0.0517 - accuracy: 0.9821 - val_loss: 0.0325 - val_accuracy: 0.9926\n",
            "Epoch 29/50\n",
            "445/445 [==============================] - 228s 512ms/step - loss: 0.0549 - accuracy: 0.9827 - val_loss: 0.0364 - val_accuracy: 0.9914\n",
            "Epoch 30/50\n",
            "445/445 [==============================] - 231s 519ms/step - loss: 0.0519 - accuracy: 0.9845 - val_loss: 0.0291 - val_accuracy: 0.9926\n",
            "Epoch 31/50\n",
            "445/445 [==============================] - 228s 513ms/step - loss: 0.0523 - accuracy: 0.9838 - val_loss: 0.0348 - val_accuracy: 0.9916\n",
            "Epoch 32/50\n",
            "445/445 [==============================] - 228s 512ms/step - loss: 0.0571 - accuracy: 0.9823 - val_loss: 0.0296 - val_accuracy: 0.9921\n",
            "Epoch 33/50\n",
            "445/445 [==============================] - 231s 518ms/step - loss: 0.0553 - accuracy: 0.9825 - val_loss: 0.0349 - val_accuracy: 0.9934\n"
          ],
          "name": "stdout"
        }
      ]
    },
    {
      "cell_type": "code",
      "metadata": {
        "colab": {
          "base_uri": "https://localhost:8080/"
        },
        "id": "Le-5xQnI1xQ1",
        "outputId": "55771131-db3f-4fb1-fb72-b48e9c79d6fa"
      },
      "source": [
        "print(model.summary())"
      ],
      "execution_count": 47,
      "outputs": [
        {
          "output_type": "stream",
          "text": [
            "Model: \"sequential_2\"\n",
            "_________________________________________________________________\n",
            "Layer (type)                 Output Shape              Param #   \n",
            "=================================================================\n",
            "conv2d_4 (Conv2D)            (None, 28, 28, 60)        1560      \n",
            "_________________________________________________________________\n",
            "conv2d_5 (Conv2D)            (None, 24, 24, 60)        90060     \n",
            "_________________________________________________________________\n",
            "max_pooling2d_2 (MaxPooling2 (None, 12, 12, 60)        0         \n",
            "_________________________________________________________________\n",
            "conv2d_6 (Conv2D)            (None, 10, 10, 30)        16230     \n",
            "_________________________________________________________________\n",
            "conv2d_7 (Conv2D)            (None, 8, 8, 30)          8130      \n",
            "_________________________________________________________________\n",
            "max_pooling2d_3 (MaxPooling2 (None, 4, 4, 30)          0         \n",
            "_________________________________________________________________\n",
            "dropout_2 (Dropout)          (None, 4, 4, 30)          0         \n",
            "_________________________________________________________________\n",
            "flatten_1 (Flatten)          (None, 480)               0         \n",
            "_________________________________________________________________\n",
            "dense_1 (Dense)              (None, 500)               240500    \n",
            "_________________________________________________________________\n",
            "dropout_3 (Dropout)          (None, 500)               0         \n",
            "_________________________________________________________________\n",
            "dense_2 (Dense)              (None, 43)                21543     \n",
            "=================================================================\n",
            "Total params: 378,023\n",
            "Trainable params: 378,023\n",
            "Non-trainable params: 0\n",
            "_________________________________________________________________\n",
            "None\n"
          ],
          "name": "stdout"
        }
      ]
    },
    {
      "cell_type": "code",
      "metadata": {
        "id": "qv-vEFmg10JN"
      },
      "source": [
        "# Save\n",
        "model.save('drive/MyDrive/Capstone3/TrafficSigns/trafficSignModel.h5')"
      ],
      "execution_count": 48,
      "outputs": []
    },
    {
      "cell_type": "code",
      "metadata": {
        "colab": {
          "base_uri": "https://localhost:8080/",
          "height": 607
        },
        "id": "Fc-oAhal13Qb",
        "outputId": "2ff9eaa9-503f-4246-8f1f-679423ff88e5"
      },
      "source": [
        "plt.figure(1)\n",
        "plt.plot(history.history['loss'])\n",
        "plt.plot(history.history['val_loss'])\n",
        "plt.legend(['training','validation'])\n",
        "plt.title('loss')\n",
        "plt.xlabel('epoch')\n",
        "plt.figure(2)\n",
        "plt.plot(history.history['accuracy'])\n",
        "plt.plot(history.history['val_accuracy'])\n",
        "plt.legend(['training','validation'])\n",
        "plt.title('Acurracy')\n",
        "plt.xlabel('epoch')\n",
        "plt.show()\n",
        "score = model.evaluate(X_test, y_test, verbose=0)\n",
        "print('Test Score:', score[0])\n",
        "print('Test Accuracy:', score[1])\n",
        " "
      ],
      "execution_count": 49,
      "outputs": [
        {
          "output_type": "display_data",
          "data": {
            "image/png": "[encoded data removed]",
            "text/plain": [
              "<Figure size 432x288 with 1 Axes>"
            ]
          },
          "metadata": {
            "tags": [],
            "needs_background": "light"
          }
        },
        {
          "output_type": "display_data",
          "data": {
            "image/png": "[encoded data removed]",
            "text/plain": [
              "<Figure size 432x288 with 1 Axes>"
            ]
          },
          "metadata": {
            "tags": [],
            "needs_background": "light"
          }
        },
        {
          "output_type": "stream",
          "text": [
            "Test Score: 0.025333134457468987\n",
            "Test Accuracy: 0.9943965673446655\n"
          ],
          "name": "stdout"
        }
      ]
    },
    {
      "cell_type": "code",
      "metadata": {
        "id": "eVX8viIt1-v4"
      },
      "source": [
        ""
      ],
      "execution_count": null,
      "outputs": []
    }
  ]
}